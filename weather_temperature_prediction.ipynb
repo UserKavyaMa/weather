{
 "cells": [
  {
   "cell_type": "code",
   "execution_count": null,
   "id": "66b46f95-25be-4619-ac2d-a1dc6452bf9a",
   "metadata": {},
   "outputs": [],
   "source": [
    "import pandas as pd\n",
    "weather = pd.read_csv(\"dataset.csv\", index_col=\"datetime\")"
   ]
  },
  {
   "cell_type": "markdown",
   "id": "3ecf065f-1b02-47da-b308-47e2544aa398",
   "metadata": {},
   "source": [
    "Here we have imported pandas to filter Ahmedabad's weather data set"
   ]
  },
  {
   "cell_type": "code",
   "execution_count": null,
   "id": "3f9b61e0-4e39-4b12-886d-ae1ec7c54b23",
   "metadata": {},
   "outputs": [],
   "source": [
    "weather"
   ]
  },
  {
   "cell_type": "code",
   "execution_count": null,
   "id": "b4d319a8-b28d-4350-9152-df3eb0220e64",
   "metadata": {},
   "outputs": [],
   "source": [
    "weather.index = pd.to_datetime(weather.index)\n",
    "weather.index"
   ]
  },
  {
   "cell_type": "code",
   "execution_count": null,
   "id": "4d3cd189-3c3e-4345-8ce0-624da984b60d",
   "metadata": {},
   "outputs": [],
   "source": [
    "weather.index.year.value_counts().sort_index()"
   ]
  },
  {
   "cell_type": "markdown",
   "id": "f6c82c5d-9d22-46d0-b7bd-dd9a2a6a2c45",
   "metadata": {},
   "source": [
    "We had plot temperature graph and will define a function to predict the future temperature"
   ]
  },
  {
   "cell_type": "code",
   "execution_count": null,
   "id": "a7269bc9-dca3-4c54-824f-8f23b384f250",
   "metadata": {},
   "outputs": [],
   "source": [
    "weather[\"temp\"].plot()"
   ]
  },
  {
   "cell_type": "code",
   "execution_count": null,
   "id": "b38f794a-72a9-4344-b83f-4a6ca288632f",
   "metadata": {},
   "outputs": [],
   "source": [
    "weather[\"humidity\"].plot()"
   ]
  },
  {
   "cell_type": "code",
   "execution_count": null,
   "id": "1a06278e-c313-46a0-bef1-e5f51a5443aa",
   "metadata": {},
   "outputs": [],
   "source": [
    "weather[\"Prediction-temperature\"] =  weather.shift(-1)[\"temp\"]"
   ]
  },
  {
   "cell_type": "code",
   "execution_count": null,
   "id": "a0ab959e-1fa6-42fd-97a8-5675f2647280",
   "metadata": {},
   "outputs": [],
   "source": [
    "weather"
   ]
  },
  {
   "cell_type": "code",
   "execution_count": null,
   "id": "46d31905-ecc9-468a-a6d7-d9db50e54ec5",
   "metadata": {},
   "outputs": [],
   "source": [
    "weather = weather.ffill()\n",
    "weather"
   ]
  },
  {
   "cell_type": "markdown",
   "id": "a248939d-7ee6-41b1-980d-13878c70bd64",
   "metadata": {},
   "source": [
    "We had imported Ridge regression model from sklearn it is very similar to linear regression model  and initialized it."
   ]
  },
  {
   "cell_type": "code",
   "execution_count": null,
   "id": "fbf65814-b4bf-4747-bd0b-5dbab82cedab",
   "metadata": {},
   "outputs": [],
   "source": [
    "from sklearn.linear_model import Ridge\n",
    "rr = Ridge(alpha=.1)"
   ]
  },
  {
   "cell_type": "markdown",
   "id": "5ded9e4b-3aa8-45c9-ae25-95f7b093f80b",
   "metadata": {},
   "source": [
    "Predictors columns are created to predict the temperature"
   ]
  },
  {
   "cell_type": "code",
   "execution_count": null,
   "id": "a8e621b3-42b8-437f-b8f4-23be6d702469",
   "metadata": {},
   "outputs": [],
   "source": [
    "predictors = weather.columns[~weather.columns.isin([\"name\",\"Prediction-temperature\"\n",
    "                                                   ])]"
   ]
  },
  {
   "cell_type": "raw",
   "id": "511eb51d-8b88-48ce-812c-3c4c71ce16b7",
   "metadata": {},
   "source": []
  },
  {
   "cell_type": "code",
   "execution_count": null,
   "id": "12cafdab-0d08-4b93-b6cb-5e0860804673",
   "metadata": {},
   "outputs": [],
   "source": [
    "predictors"
   ]
  },
  {
   "cell_type": "markdown",
   "id": "c78414d5-7297-4c2b-a191-1b4bca274ae4",
   "metadata": {},
   "source": [
    "We are defining function called backtest which is going \n",
    "to take weather data frame,Ridge model,predictors\n"
   ]
  },
  {
   "cell_type": "code",
   "execution_count": null,
   "id": "7d63699e-7259-40b7-8f9a-e5d61995cfd4",
   "metadata": {},
   "outputs": [],
   "source": [
    "def backtest(weather,model,predictors,start=60,step=10):\n",
    "    all_prediction = []\n",
    "\n",
    "    for i in range(start,weather.shape[0],step):\n",
    "        train = weather.iloc[:i,:]\n",
    "        test = weather.iloc[i:(i+step),:]\n",
    "\n",
    "        model.fit(train[predictors],train[\"Prediction-temperature\"])\n",
    "\n",
    "        preds = model.predict(test[predictors])\n",
    "\n",
    "        preds = pd.Series(preds,index=test.index)\n",
    "        combined = pd.concat([test[\"Prediction-temperature\"],preds],axis=1)\n",
    "\n",
    "        combined.columns = [\"actual\",\"prediction\"]\n",
    "        combined[\"diff\"] = (combined[\"prediction\"] - combined[\"actual\"]).abs()\n",
    "\n",
    "        all_prediction.append(combined)\n",
    "    return pd.concat(all_prediction)"
   ]
  },
  {
   "cell_type": "code",
   "execution_count": null,
   "id": "8a92e128-445e-4fdd-a3d5-60a16cd1613a",
   "metadata": {},
   "outputs": [],
   "source": [
    "predictions = backtest(weather, rr, predictors)\n"
   ]
  },
  {
   "cell_type": "code",
   "execution_count": null,
   "id": "fdd03afd-bf28-4345-b69a-189196bb1d64",
   "metadata": {},
   "outputs": [],
   "source": [
    "predictions"
   ]
  },
  {
   "cell_type": "markdown",
   "id": "be5c6f5c-b329-41ce-a602-91597acc10f8",
   "metadata": {},
   "source": []
  }
 ],
 "metadata": {
  "kernelspec": {
   "display_name": "Python 3.8.2 64-bit",
   "language": "python",
   "name": "python3"
  },
  "language_info": {
   "codemirror_mode": {
    "name": "ipython",
    "version": 3
   },
   "file_extension": ".py",
   "mimetype": "text/x-python",
   "name": "python",
   "nbconvert_exporter": "python",
   "pygments_lexer": "ipython3",
   "version": "3.8.2"
  },
  "vscode": {
   "interpreter": {
    "hash": "b5068c7fa2bbab9f04583718d2e1425202789f781f9d0465b88a5638b9c49f2e"
   }
  }
 },
 "nbformat": 4,
 "nbformat_minor": 5
}
